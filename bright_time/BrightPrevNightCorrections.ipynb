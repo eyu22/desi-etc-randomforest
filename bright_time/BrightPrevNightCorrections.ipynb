{
 "cells": [
  {
   "cell_type": "code",
   "execution_count": 12,
   "id": "a6b61b9d-75b7-4b79-aa2e-03c4b648581f",
   "metadata": {
    "tags": []
   },
   "outputs": [],
   "source": [
    "from __future__ import division, print_function\n",
    "import numpy as np\n",
    "import matplotlib.pyplot as plt\n",
    "from astropy.table import Table, vstack, hstack, join\n",
    "from astropy.io import fits\n",
    "import fitsio\n",
    "from scipy import stats\n",
    "import sys, os, warnings\n",
    "\n",
    "from sklearn.ensemble import RandomForestRegressor\n",
    "from sklearn.model_selection import cross_val_predict, train_test_split, KFold"
   ]
  },
  {
   "cell_type": "markdown",
   "id": "82256159",
   "metadata": {},
   "source": [
    "# Load and Prepare Data"
   ]
  },
  {
   "cell_type": "code",
   "execution_count": 21,
   "id": "e73129b2-4a54-4057-b922-aa016f8a12d4",
   "metadata": {
    "tags": []
   },
   "outputs": [],
   "source": [
    "cat = Table(fitsio.read('/global/cfs/cdirs/desi/spectro/redux/daily/exposures-daily.fits'))\n",
    "mask = cat['SURVEY']=='main'\n",
    "mask &= cat['PROGRAM']=='bright'\n",
    "mask &= cat['EFFTIME_ETC']>100\n",
    "mask &= cat['EFFTIME_SPEC']>100\n",
    "mask &= cat['MJD'] != 0\n",
    "cat = cat[mask]"
   ]
  },
  {
   "cell_type": "markdown",
   "id": "39c05737",
   "metadata": {},
   "source": [
    "### Eliminate pairs of data that are across large time gaps"
   ]
  },
  {
   "cell_type": "code",
   "execution_count": 22,
   "id": "f6c6ffb4-a9c0-4e43-90fc-4afc23a97125",
   "metadata": {
    "tags": []
   },
   "outputs": [],
   "source": [
    "# We create an array that holds the time gaps between the current data point and the previous\n",
    "time_gaps = []\n",
    "for i in range(1, len(cat['MJD']+1)): # remove MJD = 0\n",
    "    time_gap = cat['MJD'][i] - cat['MJD'][i-1]\n",
    "    time_gaps.append(time_gap) \n",
    "\n",
    "# only add data to cor_ratio if the time gap between the points is < gap\n",
    "\n",
    "gap = 2/24 #2 hours\n",
    "\n",
    "# \"cor\" = corrected by dividing by the previous value\n",
    "cor_ratio = []\n",
    "cor_curr = []\n",
    "cor_prev = []\n",
    "for i in range(1,len(time_gaps)):\n",
    "    if time_gaps[i] < gap:\n",
    "        cor_ratio.append((cat['EFFTIME_SPEC'][i]/cat['EFFTIME_ETC'][i])/(cat['EFFTIME_SPEC'][i-1]/cat['EFFTIME_ETC'][i-1]))\n",
    "        cor_curr.append(cat['EFFTIME_SPEC'][i]/cat['EFFTIME_ETC'][i])\n",
    "        cor_prev.append(cat['EFFTIME_SPEC'][i-1]/cat['EFFTIME_ETC'][i-1])\n"
   ]
  },
  {
   "cell_type": "markdown",
   "id": "0325518a",
   "metadata": {},
   "source": [
    "# Find Optimal Limits on Correction"
   ]
  },
  {
   "cell_type": "code",
   "execution_count": 23,
   "id": "810bd089",
   "metadata": {
    "tags": []
   },
   "outputs": [],
   "source": [
    "# function that counts the number of data points outside the 0.85-1.15 range in arr\n",
    "def count_highs(arr):\n",
    "    return (np.array(arr) > 1.15).sum()/len(arr)\n",
    "\n",
    "def count_lows(arr):\n",
    "    return (np.array(arr) < 0.85).sum()/len(arr)\n",
    "\n",
    "# \"lim\" = limited correction     \n",
    "# lowsandhighs is a 2d array that will store pairs of the form [data < 0.85, data > 1.15] for each set of corrections ([min, max])\n",
    "lowsandhighs =[]\n",
    "corrections = []\n",
    "\n",
    "# to find optimal lower + upper limit\n",
    "for i in np.linspace(0, 1, 100):\n",
    "    for j in np.linspace(1, 2, 100):\n",
    "        lim_min = i\n",
    "        lim_max = j\n",
    "        lim_prev = np.clip(cor_prev, lim_min, lim_max) # clip all the previous points (divisors) to desired range\n",
    "        lim_ratio = cor_curr/lim_prev\n",
    "        lowsandhighs.append([count_highs(lim_ratio),count_lows(lim_ratio)])\n",
    "        corrections.append([lim_min,lim_max])"
   ]
  },
  {
   "cell_type": "code",
   "execution_count": 24,
   "id": "3fbc6d6a",
   "metadata": {
    "tags": []
   },
   "outputs": [
    {
     "name": "stdout",
     "output_type": "stream",
     "text": [
      "[0.062325581395348835, 0.044651162790697675]\n",
      "[1.0, 1.7676767676767677]\n"
     ]
    }
   ],
   "source": [
    "# now we find the corresponding min and max correction to the data that had the smallest combined sum of highs and lows\n",
    "summed_lowsandhighs = []\n",
    "for pair in lowsandhighs:\n",
    "    summed_lowsandhighs.append(pair[0] + pair[1])\n",
    "\n",
    "opt_idx = summed_lowsandhighs.index(min(summed_lowsandhighs))\n",
    "\n",
    "print(lowsandhighs[opt_idx])\n",
    "print(corrections[opt_idx])"
   ]
  },
  {
   "cell_type": "code",
   "execution_count": 25,
   "id": "ff6aa3d8",
   "metadata": {
    "tags": []
   },
   "outputs": [],
   "source": [
    "# apply the optimized limits on corrections\n",
    "\n",
    "lim_prev = np.clip(cor_prev, corrections[opt_idx][0], corrections[opt_idx][1]) # clip all the previous points (divisors) to desired range\n",
    "lim_ratio = cor_curr/lim_prev\n"
   ]
  },
  {
   "cell_type": "code",
   "execution_count": 26,
   "id": "5111133f",
   "metadata": {
    "tags": []
   },
   "outputs": [
    {
     "data": {
      "image/png": "[encoded data removed]",
      "text/plain": [
       "<Figure size 700x500 with 1 Axes>"
      ]
     },
     "metadata": {},
     "output_type": "display_data"
    }
   ],
   "source": [
    "plt.figure(figsize=(7,5))\n",
    "\n",
    "plt.hist(cor_curr, bins = 100);\n",
    "plt.hist(lim_ratio*1.2, bins = 100,alpha = 0.5);\n",
    "plt.legend(['raw', 'limited correction'])\n",
    "plt.ylim(0,350)\n",
    "plt.xlim(0.5,2)\n",
    "plt.ylabel('Frequency')\n",
    "plt.xlabel('ET Ratio (EFFTIME_SPEC/EFFTIME_ETC)')\n",
    "plt.show()"
   ]
  },
  {
   "cell_type": "code",
   "execution_count": 27,
   "id": "984fe70e",
   "metadata": {},
   "outputs": [],
   "source": [
    "\n",
    "def show_stats(arr, name): # takes in the array and the name of the data\n",
    "    print('Statistics for', name)\n",
    "    print('Fraction under 0.85:', count_lows(arr))\n",
    "    print('Fraction over 1.15:', count_highs(arr))\n",
    "    print('Median Absolute Deviation:', stats.median_abs_deviation(arr))\n",
    "    print('Standard Deviation:', np.std(arr))\n",
    "    print('-------------------------------')\n",
    "    etratio_actu=cor_curr\n",
    "    outliersraw = count_lows(etratio_actu)+count_highs(etratio_actu)\n",
    "    outliersarr = count_lows(arr) + count_highs(arr)\n",
    "    print('Reduction in underexposed <0.85 from Raw Data: ', 1-(count_lows(arr)/count_lows(etratio_actu)))\n",
    "    print('Reduction in outliers from Raw Data:', outliersraw - outliersarr, \"(\", (outliersraw-outliersarr)/outliersraw*100,\"% )\")\n",
    "    print('Reduction in MAD from Raw Data:', stats.median_abs_deviation(etratio_actu) - stats.median_abs_deviation(arr), \"(\", (stats.median_abs_deviation(etratio_actu) - stats.median_abs_deviation(arr))/stats.median_abs_deviation(etratio_actu) *100,\"% )\")\n",
    "    print('Reduction in SD from Raw Data:', np.std(etratio_actu) - np.std(arr), \"(\", (np.std(etratio_actu) - np.std(arr))/np.std(etratio_actu) *100,\"% )\")\n",
    "\n",
    "    print('-------------------------------')\n"
   ]
  },
  {
   "cell_type": "code",
   "execution_count": 28,
   "id": "1a32073b",
   "metadata": {},
   "outputs": [
    {
     "name": "stdout",
     "output_type": "stream",
     "text": [
      "Statistics for Raw Data\n",
      "Fraction under 0.85: 0.005737508964857758\n",
      "Fraction over 1.15: 0.5916806120009562\n",
      "Median Absolute Deviation: 0.1574768225110421\n",
      "Standard Deviation: 0.2184885148130682\n",
      "-------------------------------\n",
      "Reduction in underexposed <0.85 from Raw Data:  -3.6258666029165667\n",
      "Reduction in outliers from Raw Data: 0.06552761546829444 ( 9.884310565259568 % )\n",
      "Reduction in MAD from Raw Data: 0.0020910803875131556 ( 1.3104642910814919 % )\n",
      "Reduction in SD from Raw Data: -0.0040684673208434 ( -1.8974286072718685 % )\n",
      "-------------------------------\n",
      "\n",
      "Statistics for Unlimited Correction Data\n",
      "Fraction under 0.85: 0.0462015503875969\n",
      "Fraction over 1.15: 0.07348837209302325\n",
      "Median Absolute Deviation: 0.04464509428383545\n",
      "Standard Deviation: 0.1214140449693553\n",
      "-------------------------------\n",
      "Reduction in underexposed <0.85 from Raw Data:  -36.25\n",
      "Reduction in outliers from Raw Data: 0.5432558139534883 ( 81.94574368568756 % )\n",
      "Reduction in MAD from Raw Data: 0.11492280861471982 ( 72.02125648526044 % )\n",
      "Reduction in SD from Raw Data: 0.09300600252286949 ( 43.37560951535655 % )\n",
      "-------------------------------\n",
      "\n",
      "Statistics for Limited Correction Data\n",
      "Fraction under 0.85: 0.044651162790697675\n",
      "Fraction over 1.15: 0.062325581395348835\n",
      "Median Absolute Deviation: 0.04415608621305511\n",
      "Standard Deviation: 0.10919686778820291\n",
      "-------------------------------\n",
      "Reduction in underexposed <0.85 from Raw Data:  -35.0\n",
      "Reduction in outliers from Raw Data: 0.555968992248062 ( 83.86342376052384 % )\n",
      "Reduction in MAD from Raw Data: 0.11541181668550016 ( 72.3277141511804 % )\n",
      "Reduction in SD from Raw Data: 0.10522317970402188 ( 49.07338699653886 % )\n",
      "-------------------------------\n"
     ]
    }
   ],
   "source": [
    "show_stats(cat['EFFTIME_SPEC']/cat['EFFTIME_ETC'], \"Raw Data\")\n",
    "print()\n",
    "show_stats(cor_ratio, \"Unlimited Correction Data\")\n",
    "print()\n",
    "show_stats(lim_ratio, \"Limited Correction Data\")\n"
   ]
  }
 ],
 "metadata": {
  "kernelspec": {
   "display_name": "DESI 23.1",
   "language": "python",
   "name": "desi-23.1"
  },
  "language_info": {
   "codemirror_mode": {
    "name": "ipython",
    "version": 3
   },
   "file_extension": ".py",
   "mimetype": "text/x-python",
   "name": "python",
   "nbconvert_exporter": "python",
   "pygments_lexer": "ipython3",
   "version": "3.10.8"
  }
 },
 "nbformat": 4,
 "nbformat_minor": 5
}
